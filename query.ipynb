{
 "cells": [
  {
   "cell_type": "code",
   "execution_count": 65,
   "metadata": {},
   "outputs": [],
   "source": [
    "\"\"\"\n",
    "Queries\n",
    "\"\"\"\n",
    "\n",
    "import csv, sqlite3\n",
    "\n",
    "def number_of_nodes():\n",
    "    result = cur.execute('SELECT COUNT(*) FROM nodes')\n",
    "    return result.fetchone()[0]\n",
    "\n",
    "def number_of_ways():\n",
    "    result = cur.execute('SELECT COUNT(*) FROM ways')\n",
    "    return result.fetchone()[0]\n",
    "\n",
    "def number_of_unique_users():\n",
    "    result = cur.execute('SELECT COUNT(DISTINCT(e.uid)) \\\n",
    "            FROM (SELECT uid FROM nodes UNION ALL SELECT uid FROM ways) e')\n",
    "    return result.fetchone()[0]\n",
    "    \n",
    "def top_contributing_users():\n",
    "    users = []\n",
    "    for row in cur.execute('SELECT e.user, COUNT(*) as num \\\n",
    "            FROM (SELECT user FROM nodes UNION ALL SELECT user FROM ways) e \\\n",
    "            GROUP BY e.user \\\n",
    "            ORDER BY num DESC \\\n",
    "            LIMIT 10'):\n",
    "        users.append(row)\n",
    "    return users\n",
    "\n",
    "def number_of_users_contributing_once():\n",
    "    result = cur.execute('SELECT COUNT(*) \\\n",
    "            FROM \\\n",
    "                (SELECT e.user, COUNT(*) as num \\\n",
    "                 FROM (SELECT user FROM nodes UNION ALL SELECT user FROM ways) e \\\n",
    "                 GROUP BY e.user \\\n",
    "                 HAVING num=1) u')\n",
    "    return result.fetchone()[0]\n",
    "\n",
    "def common_ammenities():\n",
    "    for row in cur.execute('SELECT value, COUNT(*) as num \\\n",
    "            FROM nodes_tags \\\n",
    "            WHERE key=\"amenity\" \\\n",
    "            GROUP BY value \\\n",
    "            ORDER BY num DESC \\\n",
    "            LIMIT 10;'):\n",
    "        return row\n",
    "\n",
    "def biggest_religion():\n",
    "    for row in cur.execute('SELECT nodes_tags.value, COUNT(*) as num \\\n",
    "                FROM nodes_tags \\\n",
    "                JOIN (SELECT DISTINCT(id) FROM nodes_tags WHERE value=\"place_of_worship\") i \\\n",
    "                ON nodes_tags.id=i.id \\\n",
    "            WHERE nodes_tags.key=\"religion\" \\\n",
    "            GROUP BY nodes_tags.value \\\n",
    "            ORDER BY num DESC \\\n",
    "            LIMIT 1;'):\n",
    "        return row\n",
    "\n",
    "def popular_cuisines():\n",
    "    for row in cur.execute('SELECT nodes_tags.value, COUNT(*) as num \\\n",
    "            FROM nodes_tags \\\n",
    "                JOIN (SELECT DISTINCT(id) FROM nodes_tags WHERE value=\"restaurant\") i \\\n",
    "                ON nodes_tags.id=i.id \\\n",
    "            WHERE nodes_tags.key=\"cuisine\" \\\n",
    "            GROUP BY nodes_tags.value \\\n",
    "            ORDER BY num DESC'):\n",
    "        return row\n",
    "\n",
    "if __name__ == '__main__':\n",
    "\n",
    "    con = sqlite3.connect(r\"C:\\Users\\Chaudhary\\Downloads\\udacity\\data wrangling\\ahmedabad.db\")\n",
    "    cur = con.cursor()\n"
   ]
  },
  {
   "cell_type": "code",
   "execution_count": 66,
   "metadata": {},
   "outputs": [
    {
     "name": "stdout",
     "output_type": "stream",
     "text": [
      "Number of nodes:  373437\n"
     ]
    }
   ],
   "source": [
    "print \"Number of nodes: \" , number_of_nodes()"
   ]
  },
  {
   "cell_type": "code",
   "execution_count": 67,
   "metadata": {},
   "outputs": [
    {
     "name": "stdout",
     "output_type": "stream",
     "text": [
      "Number of ways:  823\n"
     ]
    }
   ],
   "source": [
    "print \"Number of ways: \" , number_of_ways()"
   ]
  },
  {
   "cell_type": "code",
   "execution_count": 68,
   "metadata": {},
   "outputs": [
    {
     "name": "stdout",
     "output_type": "stream",
     "text": [
      "Number of unique users:  238\n"
     ]
    }
   ],
   "source": [
    "print \"Number of unique users: \" , number_of_unique_users()"
   ]
  },
  {
   "cell_type": "code",
   "execution_count": 69,
   "metadata": {},
   "outputs": [
    {
     "name": "stdout",
     "output_type": "stream",
     "text": [
      "Top contributing users:  [(u'vkvora', 64020), (u'uday01', 48603), (u'shravan91', 48340), (u'sramesh', 40863), (u'chaitanya110', 35149), (u'bhanu3', 31982), (u'shashi2', 27937), (u'Oberaffe', 18903), (u'PlaneMad', 10498), (u'Heinz_V', 10021)]\n"
     ]
    }
   ],
   "source": [
    "print \"Top contributing users: \" , top_contributing_users()"
   ]
  },
  {
   "cell_type": "code",
   "execution_count": 70,
   "metadata": {},
   "outputs": [
    {
     "name": "stdout",
     "output_type": "stream",
     "text": [
      "Number of users contributing once:  7\n"
     ]
    }
   ],
   "source": [
    "print \"Number of users contributing once: \" , number_of_users_contributing_once()"
   ]
  },
  {
   "cell_type": "code",
   "execution_count": 71,
   "metadata": {},
   "outputs": [
    {
     "name": "stdout",
     "output_type": "stream",
     "text": [
      "Common ammenities:  (u'place_of_worship', 91)\n"
     ]
    }
   ],
   "source": [
    "print \"Common ammenities: \" , common_ammenities()"
   ]
  },
  {
   "cell_type": "code",
   "execution_count": 72,
   "metadata": {},
   "outputs": [
    {
     "name": "stdout",
     "output_type": "stream",
     "text": [
      "Biggest religion:  (u'hindu', 59)\n"
     ]
    }
   ],
   "source": [
    "print \"Biggest religion: \" , biggest_religion()"
   ]
  },
  {
   "cell_type": "code",
   "execution_count": 73,
   "metadata": {},
   "outputs": [
    {
     "name": "stdout",
     "output_type": "stream",
     "text": [
      "Popular cuisines:  (u'regional', 6)\n"
     ]
    }
   ],
   "source": [
    "print \"Popular cuisines: \" , popular_cuisines()"
   ]
  },
  {
   "cell_type": "code",
   "execution_count": 75,
   "metadata": {},
   "outputs": [
    {
     "ename": "NameError",
     "evalue": "name 'sqlite_file' is not defined",
     "output_type": "error",
     "traceback": [
      "\u001b[1;31m---------------------------------------------------------------------------\u001b[0m",
      "\u001b[1;31mNameError\u001b[0m                                 Traceback (most recent call last)",
      "\u001b[1;32m<ipython-input-75-7714e00cb4a0>\u001b[0m in \u001b[0;36m<module>\u001b[1;34m()\u001b[0m\n\u001b[0;32m      1\u001b[0m \u001b[1;31m# Counting number of nodes\u001b[0m\u001b[1;33m\u001b[0m\u001b[1;33m\u001b[0m\u001b[0m\n\u001b[0;32m      2\u001b[0m \u001b[1;33m\u001b[0m\u001b[0m\n\u001b[1;32m----> 3\u001b[1;33m \u001b[0mconn\u001b[0m \u001b[1;33m=\u001b[0m \u001b[0msqlite3\u001b[0m\u001b[1;33m.\u001b[0m\u001b[0mconnect\u001b[0m\u001b[1;33m(\u001b[0m\u001b[0msqlite_file\u001b[0m\u001b[1;33m)\u001b[0m\u001b[1;33m\u001b[0m\u001b[0m\n\u001b[0m\u001b[0;32m      4\u001b[0m \u001b[1;33m\u001b[0m\u001b[0m\n\u001b[0;32m      5\u001b[0m \u001b[0mcur\u001b[0m \u001b[1;33m=\u001b[0m \u001b[0mconn\u001b[0m\u001b[1;33m.\u001b[0m\u001b[0mcursor\u001b[0m\u001b[1;33m(\u001b[0m\u001b[1;33m)\u001b[0m\u001b[1;33m\u001b[0m\u001b[0m\n",
      "\u001b[1;31mNameError\u001b[0m: name 'sqlite_file' is not defined"
     ]
    }
   ],
   "source": [
    "# Counting number of nodes\n",
    "\n",
    "conn = sqlite3.connect(sqlite_file)\n",
    "\n",
    "cur = conn.cursor()\n",
    "\n",
    "cur.execute('SELECT COUNT(*) FROM nodes;')\n",
    "all_rows = cur.fetchall()\n",
    "\n",
    "print('Number of nodes are:{}').format(all_rows)\n",
    "\n",
    "conn.commit()"
   ]
  },
  {
   "cell_type": "code",
   "execution_count": null,
   "metadata": {
    "collapsed": true
   },
   "outputs": [],
   "source": []
  }
 ],
 "metadata": {
  "kernelspec": {
   "display_name": "Python 2",
   "language": "python",
   "name": "python2"
  },
  "language_info": {
   "codemirror_mode": {
    "name": "ipython",
    "version": 2
   },
   "file_extension": ".py",
   "mimetype": "text/x-python",
   "name": "python",
   "nbconvert_exporter": "python",
   "pygments_lexer": "ipython2",
   "version": "2.7.13"
  }
 },
 "nbformat": 4,
 "nbformat_minor": 2
}
